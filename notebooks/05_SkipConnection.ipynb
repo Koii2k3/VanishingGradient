{
  "cells": [
    {
      "cell_type": "markdown",
      "id": "HItsinp0SFqA",
      "metadata": {
        "id": "HItsinp0SFqA"
      },
      "source": [
        "## **0. Import libraries**"
      ]
    },
    {
      "cell_type": "code",
      "execution_count": null,
      "id": "bb96f0ec-3525-4e79-9ad1-8e95c15a9cf2",
      "metadata": {
        "id": "bb96f0ec-3525-4e79-9ad1-8e95c15a9cf2"
      },
      "outputs": [],
      "source": [
        "import torch\n",
        "import random\n",
        "from torch import nn\n",
        "import torch.optim as optim\n",
        "from torch.utils.data import Dataset, DataLoader, random_split\n",
        "import torchvision\n",
        "from torchvision.datasets import FashionMNIST\n",
        "import matplotlib.pyplot as plt\n",
        "import torchvision.transforms as transforms\n",
        "import numpy as np\n",
        "\n",
        "device = torch.device('cuda:0' if torch.cuda.is_available() else 'cpu')"
      ]
    },
    {
      "cell_type": "code",
      "source": [
        "def set_seed(seed):\n",
        "    random.seed(seed)\n",
        "    np.random.seed(seed)\n",
        "    torch.manual_seed(seed)\n",
        "    torch.cuda.manual_seed(seed)\n",
        "    torch.cuda.manual_seed_all(seed)\n",
        "    torch.backends.cudnn.deterministic = True\n",
        "    torch.backends.cudnn.benchmark = False\n",
        "\n",
        "SEED = 42\n",
        "set_seed(SEED)"
      ],
      "metadata": {
        "id": "P3ehfc2p0vqq"
      },
      "id": "P3ehfc2p0vqq",
      "execution_count": null,
      "outputs": []
    },
    {
      "cell_type": "markdown",
      "source": [
        "## **1. Prepare dataset**\n"
      ],
      "metadata": {
        "id": "Mw6hLiNAugrD"
      },
      "id": "Mw6hLiNAugrD"
    },
    {
      "cell_type": "code",
      "execution_count": null,
      "id": "c73f1e96-b8ea-4b8f-b4f3-9b3f27b42acd",
      "metadata": {
        "id": "c73f1e96-b8ea-4b8f-b4f3-9b3f27b42acd",
        "colab": {
          "base_uri": "https://localhost:8080/"
        },
        "outputId": "ae6d2028-1d4c-4935-b748-61f0f3fc772f"
      },
      "outputs": [
        {
          "output_type": "stream",
          "name": "stdout",
          "text": [
            "Downloading http://fashion-mnist.s3-website.eu-central-1.amazonaws.com/train-images-idx3-ubyte.gz\n",
            "Downloading http://fashion-mnist.s3-website.eu-central-1.amazonaws.com/train-images-idx3-ubyte.gz to ./data/FashionMNIST/raw/train-images-idx3-ubyte.gz\n"
          ]
        },
        {
          "output_type": "stream",
          "name": "stderr",
          "text": [
            "100%|██████████| 26.4M/26.4M [00:02<00:00, 10.9MB/s]\n"
          ]
        },
        {
          "output_type": "stream",
          "name": "stdout",
          "text": [
            "Extracting ./data/FashionMNIST/raw/train-images-idx3-ubyte.gz to ./data/FashionMNIST/raw\n",
            "\n",
            "Downloading http://fashion-mnist.s3-website.eu-central-1.amazonaws.com/train-labels-idx1-ubyte.gz\n",
            "Downloading http://fashion-mnist.s3-website.eu-central-1.amazonaws.com/train-labels-idx1-ubyte.gz to ./data/FashionMNIST/raw/train-labels-idx1-ubyte.gz\n"
          ]
        },
        {
          "output_type": "stream",
          "name": "stderr",
          "text": [
            "100%|██████████| 29.5k/29.5k [00:00<00:00, 177kB/s]\n"
          ]
        },
        {
          "output_type": "stream",
          "name": "stdout",
          "text": [
            "Extracting ./data/FashionMNIST/raw/train-labels-idx1-ubyte.gz to ./data/FashionMNIST/raw\n",
            "\n",
            "Downloading http://fashion-mnist.s3-website.eu-central-1.amazonaws.com/t10k-images-idx3-ubyte.gz\n",
            "Downloading http://fashion-mnist.s3-website.eu-central-1.amazonaws.com/t10k-images-idx3-ubyte.gz to ./data/FashionMNIST/raw/t10k-images-idx3-ubyte.gz\n"
          ]
        },
        {
          "output_type": "stream",
          "name": "stderr",
          "text": [
            "100%|██████████| 4.42M/4.42M [00:01<00:00, 3.23MB/s]\n"
          ]
        },
        {
          "output_type": "stream",
          "name": "stdout",
          "text": [
            "Extracting ./data/FashionMNIST/raw/t10k-images-idx3-ubyte.gz to ./data/FashionMNIST/raw\n",
            "\n",
            "Downloading http://fashion-mnist.s3-website.eu-central-1.amazonaws.com/t10k-labels-idx1-ubyte.gz\n",
            "Downloading http://fashion-mnist.s3-website.eu-central-1.amazonaws.com/t10k-labels-idx1-ubyte.gz to ./data/FashionMNIST/raw/t10k-labels-idx1-ubyte.gz\n"
          ]
        },
        {
          "output_type": "stream",
          "name": "stderr",
          "text": [
            "100%|██████████| 5.15k/5.15k [00:00<00:00, 22.1MB/s]"
          ]
        },
        {
          "output_type": "stream",
          "name": "stdout",
          "text": [
            "Extracting ./data/FashionMNIST/raw/t10k-labels-idx1-ubyte.gz to ./data/FashionMNIST/raw\n",
            "\n",
            "Train size: 54000\n",
            "Validation size: 6000\n",
            "Test size: 10000\n"
          ]
        },
        {
          "output_type": "stream",
          "name": "stderr",
          "text": [
            "\n"
          ]
        }
      ],
      "source": [
        "batch_size = 512\n",
        "\n",
        "train_dataset = FashionMNIST('./data',\n",
        "                             train=True,\n",
        "                             download=True,\n",
        "                             transform=transforms.ToTensor())\n",
        "test_dataset = FashionMNIST('./data',\n",
        "                            train=False,\n",
        "                            download=True,\n",
        "                            transform=transforms.ToTensor())\n",
        "\n",
        "train_ratio = 0.9\n",
        "train_size = int(len(train_dataset) * train_ratio)\n",
        "val_size = len(train_dataset) - train_size\n",
        "\n",
        "train_subset, val_subset = random_split(train_dataset, [train_size, val_size])\n",
        "\n",
        "train_loader = DataLoader(train_subset, batch_size=batch_size, shuffle=True)\n",
        "val_loader = DataLoader(val_subset, batch_size=batch_size, shuffle=False)\n",
        "test_loader = DataLoader(test_dataset, batch_size=batch_size, shuffle=False)\n",
        "\n",
        "print(f\"Train size: {len(train_subset)}\")\n",
        "print(f\"Validation size: {len(val_subset)}\")\n",
        "print(f\"Test size: {len(test_dataset)}\")\n"
      ]
    },
    {
      "cell_type": "markdown",
      "id": "75eeaa46",
      "metadata": {
        "id": "75eeaa46"
      },
      "source": [
        "## **2. Build MLP network with `Custom Normalization `**\n",
        "\n",
        "\n"
      ]
    },
    {
      "cell_type": "code",
      "execution_count": null,
      "id": "589bb0df",
      "metadata": {
        "id": "589bb0df"
      },
      "outputs": [],
      "source": [
        "class MLP(nn.Module):\n",
        "    def __init__(self, input_dims, hidden_dims, output_dims):\n",
        "        super(MLP, self).__init__()\n",
        "        self.layer1 = nn.Linear(input_dims, hidden_dims)\n",
        "        self.layer2 = nn.Linear(hidden_dims, hidden_dims)\n",
        "        self.layer3 = nn.Linear(hidden_dims, hidden_dims)\n",
        "        self.layer4 = nn.Linear(hidden_dims, hidden_dims)\n",
        "        self.layer5 = nn.Linear(hidden_dims, hidden_dims)\n",
        "        self.layer6 = nn.Linear(hidden_dims, hidden_dims)\n",
        "        self.layer7 = nn.Linear(hidden_dims, hidden_dims)\n",
        "        self.output = nn.Linear(hidden_dims, output_dims)\n",
        "\n",
        "        for module in self.modules():\n",
        "            if isinstance(module, nn.Linear):\n",
        "                nn.init.normal_(module.weight, mean=0.0, std=0.05)\n",
        "                nn.init.constant_(module.bias, 0.0)\n",
        "\n",
        "    def forward(self, x):\n",
        "        x = nn.Flatten()(x)\n",
        "        x = self.layer1(x)\n",
        "        x = nn.Sigmoid()(x)\n",
        "        skip = x\n",
        "\n",
        "        x = self.layer2(x)\n",
        "        x = nn.Sigmoid()(x)\n",
        "        x = self.layer3(x)\n",
        "        x = nn.Sigmoid()(x)\n",
        "        x = skip + x\n",
        "\n",
        "        x = self.layer4(x)\n",
        "        x = nn.Sigmoid()(x)\n",
        "        skip = x\n",
        "\n",
        "        x = self.layer5(x)\n",
        "        x = nn.Sigmoid()(x)\n",
        "        x = self.layer6(x)\n",
        "        x = nn.Sigmoid()(x)\n",
        "        x = self.layer7(x)\n",
        "        x = nn.Sigmoid()(x)\n",
        "        x = skip + x\n",
        "\n",
        "        out = self.output(x)\n",
        "\n",
        "        return out"
      ]
    },
    {
      "cell_type": "code",
      "execution_count": null,
      "id": "0db5beca-ee90-4d2e-bb2f-62b20da68cf3",
      "metadata": {
        "id": "0db5beca-ee90-4d2e-bb2f-62b20da68cf3"
      },
      "outputs": [],
      "source": [
        "input_dims = 784\n",
        "hidden_dims = 128\n",
        "output_dims = 10\n",
        "lr = 1e-2\n",
        "\n",
        "model = MLP(input_dims=input_dims,\n",
        "            hidden_dims=hidden_dims,\n",
        "            output_dims=output_dims).to(device)\n",
        "\n",
        "criterion = nn.CrossEntropyLoss()\n",
        "\n",
        "optimizer = optim.SGD(model.parameters(), lr=lr)"
      ]
    },
    {
      "cell_type": "markdown",
      "source": [
        "## **3. Training**"
      ],
      "metadata": {
        "id": "lBS7q-JzwFgC"
      },
      "id": "lBS7q-JzwFgC"
    },
    {
      "cell_type": "code",
      "execution_count": null,
      "id": "21211483-aeed-4beb-aeea-d1e58ae7baf9",
      "metadata": {
        "id": "21211483-aeed-4beb-aeea-d1e58ae7baf9",
        "outputId": "47411c05-f2d5-4659-9e5c-704bb92b98ae",
        "colab": {
          "base_uri": "https://localhost:8080/"
        }
      },
      "outputs": [
        {
          "output_type": "stream",
          "name": "stdout",
          "text": [
            "EPOCH 1/100, Train_Loss: 2.3046, Train_Acc: 0.1022, Validation Loss: 1.3794, Val_Acc: 0.1415\n",
            "EPOCH 2/100, Train_Loss: 2.2978, Train_Acc: 0.1265, Validation Loss: 1.3784, Val_Acc: 0.1327\n",
            "EPOCH 3/100, Train_Loss: 2.2950, Train_Acc: 0.1457, Validation Loss: 1.3757, Val_Acc: 0.1553\n",
            "EPOCH 4/100, Train_Loss: 2.2920, Train_Acc: 0.1625, Validation Loss: 1.3746, Val_Acc: 0.2423\n",
            "EPOCH 5/100, Train_Loss: 2.2887, Train_Acc: 0.1731, Validation Loss: 1.3717, Val_Acc: 0.1965\n",
            "EPOCH 6/100, Train_Loss: 2.2853, Train_Acc: 0.2040, Validation Loss: 1.3710, Val_Acc: 0.1835\n",
            "EPOCH 7/100, Train_Loss: 2.2817, Train_Acc: 0.2406, Validation Loss: 1.3675, Val_Acc: 0.1022\n",
            "EPOCH 8/100, Train_Loss: 2.2775, Train_Acc: 0.2370, Validation Loss: 1.3652, Val_Acc: 0.1275\n",
            "EPOCH 9/100, Train_Loss: 2.2731, Train_Acc: 0.2660, Validation Loss: 1.3629, Val_Acc: 0.2483\n",
            "EPOCH 10/100, Train_Loss: 2.2679, Train_Acc: 0.2671, Validation Loss: 1.3592, Val_Acc: 0.3447\n",
            "EPOCH 11/100, Train_Loss: 2.2620, Train_Acc: 0.2919, Validation Loss: 1.3561, Val_Acc: 0.1510\n",
            "EPOCH 12/100, Train_Loss: 2.2555, Train_Acc: 0.3312, Validation Loss: 1.3509, Val_Acc: 0.3503\n",
            "EPOCH 13/100, Train_Loss: 2.2480, Train_Acc: 0.3522, Validation Loss: 1.3465, Val_Acc: 0.3083\n",
            "EPOCH 14/100, Train_Loss: 2.2390, Train_Acc: 0.3583, Validation Loss: 1.3409, Val_Acc: 0.3937\n",
            "EPOCH 15/100, Train_Loss: 2.2287, Train_Acc: 0.3891, Validation Loss: 1.3339, Val_Acc: 0.3865\n",
            "EPOCH 16/100, Train_Loss: 2.2164, Train_Acc: 0.3921, Validation Loss: 1.3265, Val_Acc: 0.3868\n",
            "EPOCH 17/100, Train_Loss: 2.2017, Train_Acc: 0.4138, Validation Loss: 1.3159, Val_Acc: 0.3882\n",
            "EPOCH 18/100, Train_Loss: 2.1843, Train_Acc: 0.4048, Validation Loss: 1.3048, Val_Acc: 0.4225\n",
            "EPOCH 19/100, Train_Loss: 2.1638, Train_Acc: 0.4114, Validation Loss: 1.2924, Val_Acc: 0.3183\n",
            "EPOCH 20/100, Train_Loss: 2.1395, Train_Acc: 0.4113, Validation Loss: 1.2759, Val_Acc: 0.2900\n",
            "EPOCH 21/100, Train_Loss: 2.1111, Train_Acc: 0.4290, Validation Loss: 1.2580, Val_Acc: 0.4262\n",
            "EPOCH 22/100, Train_Loss: 2.0782, Train_Acc: 0.4396, Validation Loss: 1.2375, Val_Acc: 0.3843\n",
            "EPOCH 23/100, Train_Loss: 2.0412, Train_Acc: 0.4430, Validation Loss: 1.2141, Val_Acc: 0.3712\n",
            "EPOCH 24/100, Train_Loss: 2.0004, Train_Acc: 0.4442, Validation Loss: 1.1881, Val_Acc: 0.5008\n",
            "EPOCH 25/100, Train_Loss: 1.9568, Train_Acc: 0.4542, Validation Loss: 1.1628, Val_Acc: 0.3867\n",
            "EPOCH 26/100, Train_Loss: 1.9120, Train_Acc: 0.4497, Validation Loss: 1.1353, Val_Acc: 0.4700\n",
            "EPOCH 27/100, Train_Loss: 1.8672, Train_Acc: 0.4569, Validation Loss: 1.1094, Val_Acc: 0.4918\n",
            "EPOCH 28/100, Train_Loss: 1.8233, Train_Acc: 0.4704, Validation Loss: 1.0843, Val_Acc: 0.4423\n",
            "EPOCH 29/100, Train_Loss: 1.7819, Train_Acc: 0.4748, Validation Loss: 1.0597, Val_Acc: 0.4848\n",
            "EPOCH 30/100, Train_Loss: 1.7426, Train_Acc: 0.4853, Validation Loss: 1.0379, Val_Acc: 0.4325\n",
            "EPOCH 31/100, Train_Loss: 1.7060, Train_Acc: 0.4847, Validation Loss: 1.0169, Val_Acc: 0.4867\n",
            "EPOCH 32/100, Train_Loss: 1.6714, Train_Acc: 0.4943, Validation Loss: 0.9970, Val_Acc: 0.4523\n",
            "EPOCH 33/100, Train_Loss: 1.6391, Train_Acc: 0.4977, Validation Loss: 0.9784, Val_Acc: 0.4515\n",
            "EPOCH 34/100, Train_Loss: 1.6080, Train_Acc: 0.5003, Validation Loss: 0.9601, Val_Acc: 0.5122\n",
            "EPOCH 35/100, Train_Loss: 1.5786, Train_Acc: 0.5127, Validation Loss: 0.9434, Val_Acc: 0.4888\n",
            "EPOCH 36/100, Train_Loss: 1.5504, Train_Acc: 0.5124, Validation Loss: 0.9271, Val_Acc: 0.5245\n",
            "EPOCH 37/100, Train_Loss: 1.5236, Train_Acc: 0.5278, Validation Loss: 0.9119, Val_Acc: 0.4993\n",
            "EPOCH 38/100, Train_Loss: 1.4978, Train_Acc: 0.5288, Validation Loss: 0.8976, Val_Acc: 0.5325\n",
            "EPOCH 39/100, Train_Loss: 1.4729, Train_Acc: 0.5382, Validation Loss: 0.8830, Val_Acc: 0.5025\n",
            "EPOCH 40/100, Train_Loss: 1.4494, Train_Acc: 0.5404, Validation Loss: 0.8680, Val_Acc: 0.5435\n",
            "EPOCH 41/100, Train_Loss: 1.4267, Train_Acc: 0.5474, Validation Loss: 0.8549, Val_Acc: 0.5405\n",
            "EPOCH 42/100, Train_Loss: 1.4048, Train_Acc: 0.5549, Validation Loss: 0.8440, Val_Acc: 0.5300\n",
            "EPOCH 43/100, Train_Loss: 1.3841, Train_Acc: 0.5599, Validation Loss: 0.8313, Val_Acc: 0.5223\n",
            "EPOCH 44/100, Train_Loss: 1.3644, Train_Acc: 0.5617, Validation Loss: 0.8193, Val_Acc: 0.5740\n",
            "EPOCH 45/100, Train_Loss: 1.3455, Train_Acc: 0.5669, Validation Loss: 0.8085, Val_Acc: 0.5775\n",
            "EPOCH 46/100, Train_Loss: 1.3271, Train_Acc: 0.5732, Validation Loss: 0.7979, Val_Acc: 0.5612\n",
            "EPOCH 47/100, Train_Loss: 1.3096, Train_Acc: 0.5754, Validation Loss: 0.7883, Val_Acc: 0.5667\n",
            "EPOCH 48/100, Train_Loss: 1.2932, Train_Acc: 0.5779, Validation Loss: 0.7791, Val_Acc: 0.5678\n",
            "EPOCH 49/100, Train_Loss: 1.2772, Train_Acc: 0.5807, Validation Loss: 0.7691, Val_Acc: 0.5595\n",
            "EPOCH 50/100, Train_Loss: 1.2620, Train_Acc: 0.5839, Validation Loss: 0.7603, Val_Acc: 0.5725\n",
            "EPOCH 51/100, Train_Loss: 1.2476, Train_Acc: 0.5870, Validation Loss: 0.7516, Val_Acc: 0.5695\n",
            "EPOCH 52/100, Train_Loss: 1.2331, Train_Acc: 0.5884, Validation Loss: 0.7441, Val_Acc: 0.5905\n",
            "EPOCH 53/100, Train_Loss: 1.2199, Train_Acc: 0.5931, Validation Loss: 0.7362, Val_Acc: 0.5863\n",
            "EPOCH 54/100, Train_Loss: 1.2064, Train_Acc: 0.5941, Validation Loss: 0.7291, Val_Acc: 0.5775\n",
            "EPOCH 55/100, Train_Loss: 1.1945, Train_Acc: 0.5951, Validation Loss: 0.7214, Val_Acc: 0.5768\n",
            "EPOCH 56/100, Train_Loss: 1.1822, Train_Acc: 0.5991, Validation Loss: 0.7145, Val_Acc: 0.5873\n",
            "EPOCH 57/100, Train_Loss: 1.1707, Train_Acc: 0.5997, Validation Loss: 0.7079, Val_Acc: 0.5885\n",
            "EPOCH 58/100, Train_Loss: 1.1596, Train_Acc: 0.6024, Validation Loss: 0.7010, Val_Acc: 0.5838\n",
            "EPOCH 59/100, Train_Loss: 1.1487, Train_Acc: 0.6039, Validation Loss: 0.6961, Val_Acc: 0.5862\n",
            "EPOCH 60/100, Train_Loss: 1.1388, Train_Acc: 0.6063, Validation Loss: 0.6893, Val_Acc: 0.5935\n",
            "EPOCH 61/100, Train_Loss: 1.1285, Train_Acc: 0.6082, Validation Loss: 0.6834, Val_Acc: 0.5915\n",
            "EPOCH 62/100, Train_Loss: 1.1189, Train_Acc: 0.6106, Validation Loss: 0.6781, Val_Acc: 0.6025\n",
            "EPOCH 63/100, Train_Loss: 1.1095, Train_Acc: 0.6129, Validation Loss: 0.6732, Val_Acc: 0.6033\n",
            "EPOCH 64/100, Train_Loss: 1.1006, Train_Acc: 0.6154, Validation Loss: 0.6671, Val_Acc: 0.5975\n",
            "EPOCH 65/100, Train_Loss: 1.0915, Train_Acc: 0.6181, Validation Loss: 0.6623, Val_Acc: 0.5878\n",
            "EPOCH 66/100, Train_Loss: 1.0838, Train_Acc: 0.6192, Validation Loss: 0.6570, Val_Acc: 0.6080\n",
            "EPOCH 67/100, Train_Loss: 1.0750, Train_Acc: 0.6201, Validation Loss: 0.6523, Val_Acc: 0.6093\n",
            "EPOCH 68/100, Train_Loss: 1.0671, Train_Acc: 0.6230, Validation Loss: 0.6482, Val_Acc: 0.6073\n",
            "EPOCH 69/100, Train_Loss: 1.0596, Train_Acc: 0.6254, Validation Loss: 0.6432, Val_Acc: 0.6133\n",
            "EPOCH 70/100, Train_Loss: 1.0519, Train_Acc: 0.6262, Validation Loss: 0.6391, Val_Acc: 0.6032\n",
            "EPOCH 71/100, Train_Loss: 1.0446, Train_Acc: 0.6286, Validation Loss: 0.6347, Val_Acc: 0.6068\n",
            "EPOCH 72/100, Train_Loss: 1.0376, Train_Acc: 0.6297, Validation Loss: 0.6303, Val_Acc: 0.6187\n",
            "EPOCH 73/100, Train_Loss: 1.0304, Train_Acc: 0.6317, Validation Loss: 0.6269, Val_Acc: 0.6168\n",
            "EPOCH 74/100, Train_Loss: 1.0240, Train_Acc: 0.6330, Validation Loss: 0.6221, Val_Acc: 0.6332\n",
            "EPOCH 75/100, Train_Loss: 1.0177, Train_Acc: 0.6359, Validation Loss: 0.6188, Val_Acc: 0.6240\n",
            "EPOCH 76/100, Train_Loss: 1.0108, Train_Acc: 0.6393, Validation Loss: 0.6142, Val_Acc: 0.6292\n",
            "EPOCH 77/100, Train_Loss: 1.0042, Train_Acc: 0.6388, Validation Loss: 0.6114, Val_Acc: 0.6368\n",
            "EPOCH 78/100, Train_Loss: 0.9980, Train_Acc: 0.6416, Validation Loss: 0.6078, Val_Acc: 0.6228\n",
            "EPOCH 79/100, Train_Loss: 0.9921, Train_Acc: 0.6424, Validation Loss: 0.6040, Val_Acc: 0.6358\n",
            "EPOCH 80/100, Train_Loss: 0.9866, Train_Acc: 0.6459, Validation Loss: 0.6011, Val_Acc: 0.6338\n",
            "EPOCH 81/100, Train_Loss: 0.9805, Train_Acc: 0.6470, Validation Loss: 0.5973, Val_Acc: 0.6407\n",
            "EPOCH 82/100, Train_Loss: 0.9748, Train_Acc: 0.6498, Validation Loss: 0.5935, Val_Acc: 0.6403\n",
            "EPOCH 83/100, Train_Loss: 0.9693, Train_Acc: 0.6489, Validation Loss: 0.5907, Val_Acc: 0.6315\n",
            "EPOCH 84/100, Train_Loss: 0.9635, Train_Acc: 0.6529, Validation Loss: 0.5875, Val_Acc: 0.6460\n",
            "EPOCH 85/100, Train_Loss: 0.9584, Train_Acc: 0.6561, Validation Loss: 0.5836, Val_Acc: 0.6415\n",
            "EPOCH 86/100, Train_Loss: 0.9532, Train_Acc: 0.6570, Validation Loss: 0.5810, Val_Acc: 0.6458\n",
            "EPOCH 87/100, Train_Loss: 0.9476, Train_Acc: 0.6598, Validation Loss: 0.5777, Val_Acc: 0.6460\n",
            "EPOCH 88/100, Train_Loss: 0.9428, Train_Acc: 0.6613, Validation Loss: 0.5748, Val_Acc: 0.6463\n",
            "EPOCH 89/100, Train_Loss: 0.9376, Train_Acc: 0.6632, Validation Loss: 0.5716, Val_Acc: 0.6587\n",
            "EPOCH 90/100, Train_Loss: 0.9329, Train_Acc: 0.6637, Validation Loss: 0.5689, Val_Acc: 0.6448\n",
            "EPOCH 91/100, Train_Loss: 0.9282, Train_Acc: 0.6663, Validation Loss: 0.5664, Val_Acc: 0.6723\n",
            "EPOCH 92/100, Train_Loss: 0.9228, Train_Acc: 0.6704, Validation Loss: 0.5634, Val_Acc: 0.6715\n",
            "EPOCH 93/100, Train_Loss: 0.9186, Train_Acc: 0.6730, Validation Loss: 0.5601, Val_Acc: 0.6532\n",
            "EPOCH 94/100, Train_Loss: 0.9136, Train_Acc: 0.6732, Validation Loss: 0.5575, Val_Acc: 0.6617\n",
            "EPOCH 95/100, Train_Loss: 0.9098, Train_Acc: 0.6770, Validation Loss: 0.5549, Val_Acc: 0.6523\n",
            "EPOCH 96/100, Train_Loss: 0.9048, Train_Acc: 0.6759, Validation Loss: 0.5526, Val_Acc: 0.6532\n",
            "EPOCH 97/100, Train_Loss: 0.9002, Train_Acc: 0.6792, Validation Loss: 0.5496, Val_Acc: 0.6547\n",
            "EPOCH 98/100, Train_Loss: 0.8961, Train_Acc: 0.6775, Validation Loss: 0.5477, Val_Acc: 0.6745\n",
            "EPOCH 99/100, Train_Loss: 0.8913, Train_Acc: 0.6789, Validation Loss: 0.5465, Val_Acc: 0.6482\n",
            "EPOCH 100/100, Train_Loss: 0.8873, Train_Acc: 0.6846, Validation Loss: 0.5424, Val_Acc: 0.6752\n"
          ]
        }
      ],
      "source": [
        "epochs = 100\n",
        "train_loss_lst = []\n",
        "train_acc_lst = []\n",
        "val_loss_lst = []\n",
        "val_acc_lst = []\n",
        "\n",
        "for epoch in range(epochs):\n",
        "    train_loss = 0.0\n",
        "    train_acc = 0.0\n",
        "    count = 0\n",
        "\n",
        "    model.train()\n",
        "    for X_train, y_train in train_loader:\n",
        "        X_train, y_train = X_train.to(device), y_train.to(device)\n",
        "        optimizer.zero_grad()\n",
        "        outputs = model(X_train)\n",
        "        loss = criterion(outputs, y_train)\n",
        "        loss.backward()\n",
        "        optimizer.step()\n",
        "        train_loss += loss.item()\n",
        "        train_acc += (torch.argmax(outputs, 1) == y_train).sum().item()\n",
        "        count += len(y_train)\n",
        "\n",
        "    train_loss /= len(train_loader)\n",
        "    train_loss_lst.append(train_loss)\n",
        "    train_acc /= count\n",
        "    train_acc_lst.append(train_acc)\n",
        "\n",
        "    val_loss = 0.0\n",
        "    val_acc = 0.0\n",
        "    count = 0\n",
        "    model.eval()\n",
        "    with torch.no_grad():\n",
        "        for X_val, y_val in val_loader:\n",
        "            X_val, y_val = X_val.to(device), y_val.to(device)\n",
        "            outputs = model(X_val)\n",
        "            loss = criterion(outputs, y_val)\n",
        "            val_loss += loss.item()\n",
        "            val_acc += (torch.argmax(outputs, 1) == y_val).sum().item()\n",
        "            count += len(y_val)\n",
        "\n",
        "    val_loss /= len(test_loader)\n",
        "    val_loss_lst.append(val_loss)\n",
        "    val_acc /= count\n",
        "    val_acc_lst.append(val_acc)\n",
        "\n",
        "    print(f\"EPOCH {epoch+1}/{epochs}, Train_Loss: {train_loss:.4f}, Train_Acc: {train_acc:.4f}, Validation Loss: {val_loss:.4f}, Val_Acc: {val_acc:.4f}\")"
      ]
    },
    {
      "cell_type": "code",
      "execution_count": null,
      "id": "30e47af6-dee8-4470-8662-fd0fd6bf9511",
      "metadata": {
        "id": "30e47af6-dee8-4470-8662-fd0fd6bf9511",
        "colab": {
          "base_uri": "https://localhost:8080/",
          "height": 872
        },
        "outputId": "f5034b94-43fc-4286-a837-347a786f6579"
      },
      "outputs": [
        {
          "output_type": "display_data",
          "data": {
            "text/plain": [
              "<Figure size 1200x1000 with 4 Axes>"
            ],
            "image/png": "[encoded data removed]"
          },
          "metadata": {}
        }
      ],
      "source": [
        "fig, ax = plt.subplots(2, 2, figsize=(12, 10))\n",
        "ax[0, 0].plot(train_loss_lst, color='green')\n",
        "ax[0, 0].set(xlabel='Epoch', ylabel='Loss')\n",
        "ax[0, 0].set_title('Training Loss')\n",
        "\n",
        "ax[0, 1].plot(val_loss_lst, color='orange')\n",
        "ax[0, 1].set(xlabel='Epoch', ylabel='Loss')\n",
        "ax[0, 1].set_title('Validation Loss')\n",
        "\n",
        "ax[1, 0].plot(train_acc_lst, color='green')\n",
        "ax[1, 0].set(xlabel='Epoch', ylabel='Accuracy')\n",
        "ax[1, 0].set_title('Training Accuracy')\n",
        "\n",
        "ax[1, 1].plot(val_acc_lst, color='orange')\n",
        "ax[1, 1].set(xlabel='Epoch', ylabel='Accuracy')\n",
        "ax[1, 1].set_title('Validation Accuracy')\n",
        "\n",
        "plt.show()"
      ]
    },
    {
      "cell_type": "markdown",
      "source": [
        "## **4. Evaluation**"
      ],
      "metadata": {
        "id": "CY9OpDyiPL2V"
      },
      "id": "CY9OpDyiPL2V"
    },
    {
      "cell_type": "code",
      "source": [
        "val_target = []\n",
        "val_predict = []\n",
        "\n",
        "model.eval()\n",
        "with torch.no_grad():\n",
        "    for X_val, y_val in val_loader:\n",
        "        X_val = X_val.to(device)\n",
        "        y_val = y_val.to(device)\n",
        "        outputs = model(X_val)\n",
        "\n",
        "        val_predict.append(outputs.cpu())\n",
        "        val_target.append(y_val.cpu())\n",
        "\n",
        "    val_predict = torch.cat(val_predict)\n",
        "    val_target = torch.cat(val_target)\n",
        "    val_acc = (torch.argmax(val_predict, 1) == val_target).sum().item() / len(val_target)\n",
        "\n",
        "    print('Evaluation on val set:')\n",
        "    print(f'Accuracy: {val_acc}')"
      ],
      "metadata": {
        "id": "VC8cygPWPKy6",
        "colab": {
          "base_uri": "https://localhost:8080/"
        },
        "outputId": "6a4676b8-ba15-4824-90f0-a9f7f237e019"
      },
      "execution_count": null,
      "outputs": [
        {
          "output_type": "stream",
          "name": "stdout",
          "text": [
            "Evaluation on val set:\n",
            "Accuracy: 0.6751666666666667\n"
          ]
        }
      ],
      "id": "VC8cygPWPKy6"
    },
    {
      "cell_type": "code",
      "source": [
        "test_target = []\n",
        "test_predict = []\n",
        "\n",
        "model.eval()\n",
        "with torch.no_grad():\n",
        "    for X_test, y_test in test_loader:\n",
        "        X_test = X_test.to(device)\n",
        "        y_test = y_test.to(device)\n",
        "        outputs = model(X_test)\n",
        "\n",
        "        test_predict.append(outputs.cpu())\n",
        "        test_target.append(y_test.cpu())\n",
        "\n",
        "    test_predict = torch.cat(test_predict)\n",
        "    test_target = torch.cat(test_target)\n",
        "    test_acc = (torch.argmax(test_predict, 1) == test_target).sum().item() / len(test_target)\n",
        "\n",
        "    print('Evaluation on test set:')\n",
        "    print(f'Accuracy: {test_acc}')"
      ],
      "metadata": {
        "id": "vsTDEJ92P6Pa",
        "colab": {
          "base_uri": "https://localhost:8080/"
        },
        "outputId": "2a8ab8c9-fbde-4845-93ce-3c479eece1e6"
      },
      "execution_count": null,
      "outputs": [
        {
          "output_type": "stream",
          "name": "stdout",
          "text": [
            "Evaluation on test set:\n",
            "Accuracy: 0.6796\n"
          ]
        }
      ],
      "id": "vsTDEJ92P6Pa"
    }
  ],
  "metadata": {
    "colab": {
      "provenance": [],
      "toc_visible": true,
      "gpuType": "T4"
    },
    "kernelspec": {
      "display_name": "Python 3",
      "name": "python3"
    },
    "language_info": {
      "codemirror_mode": {
        "name": "ipython",
        "version": 3
      },
      "file_extension": ".py",
      "mimetype": "text/x-python",
      "name": "python",
      "nbconvert_exporter": "python",
      "pygments_lexer": "ipython3",
      "version": "3.10.13"
    },
    "toc": {
      "base_numbering": 1,
      "nav_menu": {},
      "number_sections": true,
      "sideBar": true,
      "skip_h1_title": false,
      "title_cell": "Table of Contents",
      "title_sidebar": "Contents",
      "toc_cell": false,
      "toc_position": {},
      "toc_section_display": true,
      "toc_window_display": true
    },
    "accelerator": "GPU"
  },
  "nbformat": 4,
  "nbformat_minor": 5
}