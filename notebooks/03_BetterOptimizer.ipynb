{
  "cells": [
    {
      "cell_type": "markdown",
      "id": "HItsinp0SFqA",
      "metadata": {
        "id": "HItsinp0SFqA"
      },
      "source": [
        "## **0. Import libraries**"
      ]
    },
    {
      "cell_type": "code",
      "execution_count": null,
      "id": "bb96f0ec-3525-4e79-9ad1-8e95c15a9cf2",
      "metadata": {
        "id": "bb96f0ec-3525-4e79-9ad1-8e95c15a9cf2"
      },
      "outputs": [],
      "source": [
        "import torch\n",
        "import random\n",
        "from torch import nn\n",
        "import torch.optim as optim\n",
        "from torch.utils.data import Dataset, DataLoader, random_split\n",
        "import torchvision\n",
        "from torchvision.datasets import FashionMNIST\n",
        "import matplotlib.pyplot as plt\n",
        "import torchvision.transforms as transforms\n",
        "import numpy as np\n",
        "\n",
        "device = torch.device('cuda:0' if torch.cuda.is_available() else 'cpu')"
      ]
    },
    {
      "cell_type": "code",
      "source": [
        "def set_seed(seed):\n",
        "    random.seed(seed)\n",
        "    np.random.seed(seed)\n",
        "    torch.manual_seed(seed)\n",
        "    torch.cuda.manual_seed(seed)\n",
        "    torch.cuda.manual_seed_all(seed)\n",
        "    torch.backends.cudnn.deterministic = True\n",
        "    torch.backends.cudnn.benchmark = False\n",
        "\n",
        "SEED = 42\n",
        "set_seed(SEED)"
      ],
      "metadata": {
        "id": "P3ehfc2p0vqq"
      },
      "id": "P3ehfc2p0vqq",
      "execution_count": null,
      "outputs": []
    },
    {
      "cell_type": "markdown",
      "source": [
        "## **1. Prepare dataset**\n"
      ],
      "metadata": {
        "id": "Mw6hLiNAugrD"
      },
      "id": "Mw6hLiNAugrD"
    },
    {
      "cell_type": "code",
      "execution_count": null,
      "id": "c73f1e96-b8ea-4b8f-b4f3-9b3f27b42acd",
      "metadata": {
        "id": "c73f1e96-b8ea-4b8f-b4f3-9b3f27b42acd",
        "colab": {
          "base_uri": "https://localhost:8080/"
        },
        "outputId": "8829cdc6-83e2-4f1e-8385-48078b4cc17a"
      },
      "outputs": [
        {
          "output_type": "stream",
          "name": "stdout",
          "text": [
            "Downloading http://fashion-mnist.s3-website.eu-central-1.amazonaws.com/train-images-idx3-ubyte.gz\n",
            "Downloading http://fashion-mnist.s3-website.eu-central-1.amazonaws.com/train-images-idx3-ubyte.gz to ./data/FashionMNIST/raw/train-images-idx3-ubyte.gz\n"
          ]
        },
        {
          "output_type": "stream",
          "name": "stderr",
          "text": [
            "100%|██████████| 26.4M/26.4M [00:04<00:00, 6.22MB/s]\n"
          ]
        },
        {
          "output_type": "stream",
          "name": "stdout",
          "text": [
            "Extracting ./data/FashionMNIST/raw/train-images-idx3-ubyte.gz to ./data/FashionMNIST/raw\n",
            "\n",
            "Downloading http://fashion-mnist.s3-website.eu-central-1.amazonaws.com/train-labels-idx1-ubyte.gz\n",
            "Downloading http://fashion-mnist.s3-website.eu-central-1.amazonaws.com/train-labels-idx1-ubyte.gz to ./data/FashionMNIST/raw/train-labels-idx1-ubyte.gz\n"
          ]
        },
        {
          "output_type": "stream",
          "name": "stderr",
          "text": [
            "100%|██████████| 29.5k/29.5k [00:00<00:00, 135kB/s]\n"
          ]
        },
        {
          "output_type": "stream",
          "name": "stdout",
          "text": [
            "Extracting ./data/FashionMNIST/raw/train-labels-idx1-ubyte.gz to ./data/FashionMNIST/raw\n",
            "\n",
            "Downloading http://fashion-mnist.s3-website.eu-central-1.amazonaws.com/t10k-images-idx3-ubyte.gz\n",
            "Downloading http://fashion-mnist.s3-website.eu-central-1.amazonaws.com/t10k-images-idx3-ubyte.gz to ./data/FashionMNIST/raw/t10k-images-idx3-ubyte.gz\n"
          ]
        },
        {
          "output_type": "stream",
          "name": "stderr",
          "text": [
            "100%|██████████| 4.42M/4.42M [00:01<00:00, 2.58MB/s]\n"
          ]
        },
        {
          "output_type": "stream",
          "name": "stdout",
          "text": [
            "Extracting ./data/FashionMNIST/raw/t10k-images-idx3-ubyte.gz to ./data/FashionMNIST/raw\n",
            "\n",
            "Downloading http://fashion-mnist.s3-website.eu-central-1.amazonaws.com/t10k-labels-idx1-ubyte.gz\n",
            "Downloading http://fashion-mnist.s3-website.eu-central-1.amazonaws.com/t10k-labels-idx1-ubyte.gz to ./data/FashionMNIST/raw/t10k-labels-idx1-ubyte.gz\n"
          ]
        },
        {
          "output_type": "stream",
          "name": "stderr",
          "text": [
            "100%|██████████| 5.15k/5.15k [00:00<00:00, 6.37MB/s]"
          ]
        },
        {
          "output_type": "stream",
          "name": "stdout",
          "text": [
            "Extracting ./data/FashionMNIST/raw/t10k-labels-idx1-ubyte.gz to ./data/FashionMNIST/raw\n",
            "\n",
            "Train size: 54000\n",
            "Validation size: 6000\n",
            "Test size: 10000\n"
          ]
        },
        {
          "output_type": "stream",
          "name": "stderr",
          "text": [
            "\n"
          ]
        }
      ],
      "source": [
        "batch_size = 512\n",
        "\n",
        "train_dataset = FashionMNIST('./data',\n",
        "                             train=True,\n",
        "                             download=True,\n",
        "                             transform=transforms.ToTensor())\n",
        "test_dataset = FashionMNIST('./data',\n",
        "                            train=False,\n",
        "                            download=True,\n",
        "                            transform=transforms.ToTensor())\n",
        "\n",
        "train_ratio = 0.9\n",
        "train_size = int(len(train_dataset) * train_ratio)\n",
        "val_size = len(train_dataset) - train_size\n",
        "\n",
        "train_subset, val_subset = random_split(train_dataset, [train_size, val_size])\n",
        "\n",
        "train_loader = DataLoader(train_subset, batch_size=batch_size, shuffle=True)\n",
        "val_loader = DataLoader(val_subset, batch_size=batch_size, shuffle=False)\n",
        "test_loader = DataLoader(test_dataset, batch_size=batch_size, shuffle=False)\n",
        "\n",
        "print(f\"Train size: {len(train_subset)}\")\n",
        "print(f\"Validation size: {len(val_subset)}\")\n",
        "print(f\"Test size: {len(test_dataset)}\")\n"
      ]
    },
    {
      "cell_type": "markdown",
      "id": "75eeaa46",
      "metadata": {
        "id": "75eeaa46"
      },
      "source": [
        "## **2. Build MLP network with `Better Optimizer `**\n",
        "\n",
        "\n"
      ]
    },
    {
      "cell_type": "code",
      "execution_count": null,
      "id": "589bb0df",
      "metadata": {
        "id": "589bb0df"
      },
      "outputs": [],
      "source": [
        "class MLP(nn.Module):\n",
        "    def __init__(self, input_dims, hidden_dims, output_dims):\n",
        "        super(MLP, self).__init__()\n",
        "        self.layer1 = nn.Linear(input_dims, hidden_dims)\n",
        "        self.layer2 = nn.Linear(hidden_dims, hidden_dims)\n",
        "        self.layer3 = nn.Linear(hidden_dims, hidden_dims)\n",
        "        self.layer4 = nn.Linear(hidden_dims, hidden_dims)\n",
        "        self.layer5 = nn.Linear(hidden_dims, hidden_dims)\n",
        "        self.layer6 = nn.Linear(hidden_dims, hidden_dims)\n",
        "        self.layer7 = nn.Linear(hidden_dims, hidden_dims)\n",
        "        self.output = nn.Linear(hidden_dims, output_dims)\n",
        "\n",
        "        for module in self.modules():\n",
        "            if isinstance(module, nn.Linear):\n",
        "                nn.init.normal_(module.weight, mean=0.0, std=0.05)\n",
        "                nn.init.constant_(module.bias, 0.0)\n",
        "\n",
        "    def forward(self, x):\n",
        "        x = nn.Flatten()(x)\n",
        "        x = self.layer1(x)\n",
        "        x = nn.Sigmoid()(x)\n",
        "        x = self.layer2(x)\n",
        "        x = nn.Sigmoid()(x)\n",
        "        x = self.layer3(x)\n",
        "        x = nn.Sigmoid()(x)\n",
        "        x = self.layer4(x)\n",
        "        x = nn.Sigmoid()(x)\n",
        "        x = self.layer5(x)\n",
        "        x = nn.Sigmoid()(x)\n",
        "        x = self.layer6(x)\n",
        "        x = nn.Sigmoid()(x)\n",
        "        x = self.layer7(x)\n",
        "        x = nn.Sigmoid()(x)\n",
        "        out = self.output(x)\n",
        "\n",
        "        return out"
      ]
    },
    {
      "cell_type": "code",
      "execution_count": null,
      "id": "0db5beca-ee90-4d2e-bb2f-62b20da68cf3",
      "metadata": {
        "id": "0db5beca-ee90-4d2e-bb2f-62b20da68cf3"
      },
      "outputs": [],
      "source": [
        "input_dims = 784\n",
        "hidden_dims = 128\n",
        "output_dims = 10\n",
        "\n",
        "model = MLP(input_dims=input_dims,\n",
        "            hidden_dims=hidden_dims,\n",
        "            output_dims=output_dims).to(device)\n",
        "\n",
        "criterion = nn.CrossEntropyLoss()\n",
        "\n",
        "lr = 1e-3\n",
        "optimizer = optim.Adam(model.parameters(), lr=lr)"
      ]
    },
    {
      "cell_type": "markdown",
      "source": [
        "## **3. Training**"
      ],
      "metadata": {
        "id": "lBS7q-JzwFgC"
      },
      "id": "lBS7q-JzwFgC"
    },
    {
      "cell_type": "code",
      "execution_count": null,
      "id": "21211483-aeed-4beb-aeea-d1e58ae7baf9",
      "metadata": {
        "id": "21211483-aeed-4beb-aeea-d1e58ae7baf9",
        "outputId": "3f892f4e-0f11-44e4-b585-3885ce9c5765",
        "colab": {
          "base_uri": "https://localhost:8080/"
        }
      },
      "outputs": [
        {
          "output_type": "stream",
          "name": "stdout",
          "text": [
            "EPOCH 1/100, Train_Loss: 2.2325, Train_Acc: 0.1290, Validation Loss: 1.0560, Val_Acc: 0.2023\n",
            "EPOCH 2/100, Train_Loss: 1.7066, Train_Acc: 0.1982, Validation Loss: 1.0267, Val_Acc: 0.2023\n",
            "EPOCH 3/100, Train_Loss: 1.6874, Train_Acc: 0.2019, Validation Loss: 1.0127, Val_Acc: 0.1917\n",
            "EPOCH 4/100, Train_Loss: 1.6775, Train_Acc: 0.1986, Validation Loss: 1.0104, Val_Acc: 0.1940\n",
            "EPOCH 5/100, Train_Loss: 1.6703, Train_Acc: 0.2074, Validation Loss: 0.9900, Val_Acc: 0.2340\n",
            "EPOCH 6/100, Train_Loss: 1.5007, Train_Acc: 0.2975, Validation Loss: 0.8766, Val_Acc: 0.2987\n",
            "EPOCH 7/100, Train_Loss: 1.2960, Train_Acc: 0.4246, Validation Loss: 0.6506, Val_Acc: 0.5405\n",
            "EPOCH 8/100, Train_Loss: 0.9641, Train_Acc: 0.6033, Validation Loss: 0.5368, Val_Acc: 0.6770\n",
            "EPOCH 9/100, Train_Loss: 0.8073, Train_Acc: 0.7112, Validation Loss: 0.4694, Val_Acc: 0.7313\n",
            "EPOCH 10/100, Train_Loss: 0.7029, Train_Acc: 0.7618, Validation Loss: 0.4153, Val_Acc: 0.7712\n",
            "EPOCH 11/100, Train_Loss: 0.6395, Train_Acc: 0.7813, Validation Loss: 0.3876, Val_Acc: 0.7835\n",
            "EPOCH 12/100, Train_Loss: 0.6063, Train_Acc: 0.7903, Validation Loss: 0.3747, Val_Acc: 0.7902\n",
            "EPOCH 13/100, Train_Loss: 0.5783, Train_Acc: 0.7989, Validation Loss: 0.3615, Val_Acc: 0.8000\n",
            "EPOCH 14/100, Train_Loss: 0.5629, Train_Acc: 0.8042, Validation Loss: 0.3596, Val_Acc: 0.8052\n",
            "EPOCH 15/100, Train_Loss: 0.5565, Train_Acc: 0.8062, Validation Loss: 0.3479, Val_Acc: 0.8053\n",
            "EPOCH 16/100, Train_Loss: 0.5367, Train_Acc: 0.8140, Validation Loss: 0.3531, Val_Acc: 0.8052\n",
            "EPOCH 17/100, Train_Loss: 0.5247, Train_Acc: 0.8188, Validation Loss: 0.3434, Val_Acc: 0.8132\n",
            "EPOCH 18/100, Train_Loss: 0.5132, Train_Acc: 0.8250, Validation Loss: 0.3510, Val_Acc: 0.8013\n",
            "EPOCH 19/100, Train_Loss: 0.5015, Train_Acc: 0.8308, Validation Loss: 0.3368, Val_Acc: 0.8172\n",
            "EPOCH 20/100, Train_Loss: 0.4934, Train_Acc: 0.8340, Validation Loss: 0.3304, Val_Acc: 0.8238\n",
            "EPOCH 21/100, Train_Loss: 0.4863, Train_Acc: 0.8373, Validation Loss: 0.3265, Val_Acc: 0.8215\n",
            "EPOCH 22/100, Train_Loss: 0.4747, Train_Acc: 0.8431, Validation Loss: 0.3423, Val_Acc: 0.8185\n",
            "EPOCH 23/100, Train_Loss: 0.4720, Train_Acc: 0.8441, Validation Loss: 0.3227, Val_Acc: 0.8317\n",
            "EPOCH 24/100, Train_Loss: 0.4620, Train_Acc: 0.8482, Validation Loss: 0.3281, Val_Acc: 0.8262\n",
            "EPOCH 25/100, Train_Loss: 0.4545, Train_Acc: 0.8518, Validation Loss: 0.3149, Val_Acc: 0.8315\n",
            "EPOCH 26/100, Train_Loss: 0.4538, Train_Acc: 0.8501, Validation Loss: 0.3220, Val_Acc: 0.8318\n",
            "EPOCH 27/100, Train_Loss: 0.4455, Train_Acc: 0.8552, Validation Loss: 0.3131, Val_Acc: 0.8317\n",
            "EPOCH 28/100, Train_Loss: 0.4421, Train_Acc: 0.8560, Validation Loss: 0.3098, Val_Acc: 0.8363\n",
            "EPOCH 29/100, Train_Loss: 0.4271, Train_Acc: 0.8622, Validation Loss: 0.3054, Val_Acc: 0.8405\n",
            "EPOCH 30/100, Train_Loss: 0.4280, Train_Acc: 0.8603, Validation Loss: 0.3151, Val_Acc: 0.8310\n",
            "EPOCH 31/100, Train_Loss: 0.4228, Train_Acc: 0.8628, Validation Loss: 0.3457, Val_Acc: 0.8028\n",
            "EPOCH 32/100, Train_Loss: 0.4174, Train_Acc: 0.8644, Validation Loss: 0.3033, Val_Acc: 0.8437\n",
            "EPOCH 33/100, Train_Loss: 0.4079, Train_Acc: 0.8683, Validation Loss: 0.3109, Val_Acc: 0.8382\n",
            "EPOCH 34/100, Train_Loss: 0.4039, Train_Acc: 0.8684, Validation Loss: 0.2957, Val_Acc: 0.8420\n",
            "EPOCH 35/100, Train_Loss: 0.3970, Train_Acc: 0.8713, Validation Loss: 0.2969, Val_Acc: 0.8448\n",
            "EPOCH 36/100, Train_Loss: 0.3841, Train_Acc: 0.8770, Validation Loss: 0.2903, Val_Acc: 0.8448\n",
            "EPOCH 37/100, Train_Loss: 0.3786, Train_Acc: 0.8776, Validation Loss: 0.2871, Val_Acc: 0.8485\n",
            "EPOCH 38/100, Train_Loss: 0.3737, Train_Acc: 0.8772, Validation Loss: 0.3025, Val_Acc: 0.8415\n",
            "EPOCH 39/100, Train_Loss: 0.3651, Train_Acc: 0.8805, Validation Loss: 0.2900, Val_Acc: 0.8408\n",
            "EPOCH 40/100, Train_Loss: 0.3614, Train_Acc: 0.8819, Validation Loss: 0.2862, Val_Acc: 0.8437\n",
            "EPOCH 41/100, Train_Loss: 0.3550, Train_Acc: 0.8834, Validation Loss: 0.2802, Val_Acc: 0.8480\n",
            "EPOCH 42/100, Train_Loss: 0.3564, Train_Acc: 0.8826, Validation Loss: 0.2748, Val_Acc: 0.8477\n",
            "EPOCH 43/100, Train_Loss: 0.3468, Train_Acc: 0.8854, Validation Loss: 0.2707, Val_Acc: 0.8548\n",
            "EPOCH 44/100, Train_Loss: 0.3405, Train_Acc: 0.8886, Validation Loss: 0.2706, Val_Acc: 0.8510\n",
            "EPOCH 45/100, Train_Loss: 0.3328, Train_Acc: 0.8924, Validation Loss: 0.2717, Val_Acc: 0.8533\n",
            "EPOCH 46/100, Train_Loss: 0.3306, Train_Acc: 0.8928, Validation Loss: 0.2644, Val_Acc: 0.8567\n",
            "EPOCH 47/100, Train_Loss: 0.3193, Train_Acc: 0.8969, Validation Loss: 0.2601, Val_Acc: 0.8587\n",
            "EPOCH 48/100, Train_Loss: 0.3145, Train_Acc: 0.8997, Validation Loss: 0.2586, Val_Acc: 0.8590\n",
            "EPOCH 49/100, Train_Loss: 0.3179, Train_Acc: 0.8957, Validation Loss: 0.2569, Val_Acc: 0.8607\n",
            "EPOCH 50/100, Train_Loss: 0.3094, Train_Acc: 0.9001, Validation Loss: 0.2684, Val_Acc: 0.8618\n",
            "EPOCH 51/100, Train_Loss: 0.2998, Train_Acc: 0.9027, Validation Loss: 0.2649, Val_Acc: 0.8568\n",
            "EPOCH 52/100, Train_Loss: 0.3066, Train_Acc: 0.8996, Validation Loss: 0.2526, Val_Acc: 0.8635\n",
            "EPOCH 53/100, Train_Loss: 0.2959, Train_Acc: 0.9044, Validation Loss: 0.2513, Val_Acc: 0.8662\n",
            "EPOCH 54/100, Train_Loss: 0.2840, Train_Acc: 0.9079, Validation Loss: 0.2514, Val_Acc: 0.8682\n",
            "EPOCH 55/100, Train_Loss: 0.2841, Train_Acc: 0.9084, Validation Loss: 0.2485, Val_Acc: 0.8677\n",
            "EPOCH 56/100, Train_Loss: 0.2934, Train_Acc: 0.9041, Validation Loss: 0.2478, Val_Acc: 0.8678\n",
            "EPOCH 57/100, Train_Loss: 0.2776, Train_Acc: 0.9104, Validation Loss: 0.2573, Val_Acc: 0.8637\n",
            "EPOCH 58/100, Train_Loss: 0.2750, Train_Acc: 0.9106, Validation Loss: 0.2567, Val_Acc: 0.8638\n",
            "EPOCH 59/100, Train_Loss: 0.2733, Train_Acc: 0.9116, Validation Loss: 0.2622, Val_Acc: 0.8638\n",
            "EPOCH 60/100, Train_Loss: 0.2707, Train_Acc: 0.9118, Validation Loss: 0.2453, Val_Acc: 0.8685\n",
            "EPOCH 61/100, Train_Loss: 0.2607, Train_Acc: 0.9159, Validation Loss: 0.2525, Val_Acc: 0.8702\n",
            "EPOCH 62/100, Train_Loss: 0.2635, Train_Acc: 0.9149, Validation Loss: 0.2502, Val_Acc: 0.8690\n",
            "EPOCH 63/100, Train_Loss: 0.2516, Train_Acc: 0.9204, Validation Loss: 0.2497, Val_Acc: 0.8697\n",
            "EPOCH 64/100, Train_Loss: 0.2569, Train_Acc: 0.9167, Validation Loss: 0.2566, Val_Acc: 0.8615\n",
            "EPOCH 65/100, Train_Loss: 0.2553, Train_Acc: 0.9175, Validation Loss: 0.2662, Val_Acc: 0.8617\n",
            "EPOCH 66/100, Train_Loss: 0.2570, Train_Acc: 0.9169, Validation Loss: 0.2512, Val_Acc: 0.8667\n",
            "EPOCH 67/100, Train_Loss: 0.2585, Train_Acc: 0.9157, Validation Loss: 0.2527, Val_Acc: 0.8665\n",
            "EPOCH 68/100, Train_Loss: 0.2469, Train_Acc: 0.9210, Validation Loss: 0.2629, Val_Acc: 0.8592\n",
            "EPOCH 69/100, Train_Loss: 0.2491, Train_Acc: 0.9194, Validation Loss: 0.2674, Val_Acc: 0.8620\n",
            "EPOCH 70/100, Train_Loss: 0.2447, Train_Acc: 0.9211, Validation Loss: 0.2470, Val_Acc: 0.8710\n",
            "EPOCH 71/100, Train_Loss: 0.2396, Train_Acc: 0.9233, Validation Loss: 0.2485, Val_Acc: 0.8717\n",
            "EPOCH 72/100, Train_Loss: 0.2322, Train_Acc: 0.9256, Validation Loss: 0.2495, Val_Acc: 0.8733\n",
            "EPOCH 73/100, Train_Loss: 0.2315, Train_Acc: 0.9264, Validation Loss: 0.2664, Val_Acc: 0.8693\n",
            "EPOCH 74/100, Train_Loss: 0.2322, Train_Acc: 0.9261, Validation Loss: 0.2661, Val_Acc: 0.8668\n",
            "EPOCH 75/100, Train_Loss: 0.2330, Train_Acc: 0.9249, Validation Loss: 0.2531, Val_Acc: 0.8732\n",
            "EPOCH 76/100, Train_Loss: 0.2312, Train_Acc: 0.9254, Validation Loss: 0.2611, Val_Acc: 0.8695\n",
            "EPOCH 77/100, Train_Loss: 0.2292, Train_Acc: 0.9272, Validation Loss: 0.2593, Val_Acc: 0.8677\n",
            "EPOCH 78/100, Train_Loss: 0.2208, Train_Acc: 0.9301, Validation Loss: 0.2573, Val_Acc: 0.8668\n",
            "EPOCH 79/100, Train_Loss: 0.2198, Train_Acc: 0.9291, Validation Loss: 0.2544, Val_Acc: 0.8713\n",
            "EPOCH 80/100, Train_Loss: 0.2152, Train_Acc: 0.9323, Validation Loss: 0.2673, Val_Acc: 0.8623\n",
            "EPOCH 81/100, Train_Loss: 0.2162, Train_Acc: 0.9321, Validation Loss: 0.2628, Val_Acc: 0.8642\n",
            "EPOCH 82/100, Train_Loss: 0.2162, Train_Acc: 0.9314, Validation Loss: 0.2541, Val_Acc: 0.8725\n",
            "EPOCH 83/100, Train_Loss: 0.2103, Train_Acc: 0.9342, Validation Loss: 0.2795, Val_Acc: 0.8625\n",
            "EPOCH 84/100, Train_Loss: 0.2191, Train_Acc: 0.9301, Validation Loss: 0.2545, Val_Acc: 0.8727\n",
            "EPOCH 85/100, Train_Loss: 0.2098, Train_Acc: 0.9331, Validation Loss: 0.2703, Val_Acc: 0.8595\n",
            "EPOCH 86/100, Train_Loss: 0.2044, Train_Acc: 0.9355, Validation Loss: 0.2568, Val_Acc: 0.8738\n",
            "EPOCH 87/100, Train_Loss: 0.2038, Train_Acc: 0.9356, Validation Loss: 0.2579, Val_Acc: 0.8762\n",
            "EPOCH 88/100, Train_Loss: 0.2011, Train_Acc: 0.9371, Validation Loss: 0.2639, Val_Acc: 0.8683\n",
            "EPOCH 89/100, Train_Loss: 0.2010, Train_Acc: 0.9375, Validation Loss: 0.2867, Val_Acc: 0.8540\n",
            "EPOCH 90/100, Train_Loss: 0.2049, Train_Acc: 0.9358, Validation Loss: 0.2647, Val_Acc: 0.8737\n",
            "EPOCH 91/100, Train_Loss: 0.2011, Train_Acc: 0.9362, Validation Loss: 0.2614, Val_Acc: 0.8687\n",
            "EPOCH 92/100, Train_Loss: 0.1957, Train_Acc: 0.9384, Validation Loss: 0.2632, Val_Acc: 0.8730\n",
            "EPOCH 93/100, Train_Loss: 0.1963, Train_Acc: 0.9384, Validation Loss: 0.2638, Val_Acc: 0.8713\n",
            "EPOCH 94/100, Train_Loss: 0.1963, Train_Acc: 0.9381, Validation Loss: 0.2633, Val_Acc: 0.8740\n",
            "EPOCH 95/100, Train_Loss: 0.1937, Train_Acc: 0.9389, Validation Loss: 0.2569, Val_Acc: 0.8742\n",
            "EPOCH 96/100, Train_Loss: 0.1884, Train_Acc: 0.9406, Validation Loss: 0.2672, Val_Acc: 0.8698\n",
            "EPOCH 97/100, Train_Loss: 0.1910, Train_Acc: 0.9391, Validation Loss: 0.2690, Val_Acc: 0.8717\n",
            "EPOCH 98/100, Train_Loss: 0.1900, Train_Acc: 0.9409, Validation Loss: 0.2775, Val_Acc: 0.8725\n",
            "EPOCH 99/100, Train_Loss: 0.1867, Train_Acc: 0.9403, Validation Loss: 0.2596, Val_Acc: 0.8738\n",
            "EPOCH 100/100, Train_Loss: 0.1924, Train_Acc: 0.9390, Validation Loss: 0.2754, Val_Acc: 0.8707\n"
          ]
        }
      ],
      "source": [
        "epochs = 100\n",
        "train_loss_lst = []\n",
        "train_acc_lst = []\n",
        "val_loss_lst = []\n",
        "val_acc_lst = []\n",
        "\n",
        "for epoch in range(epochs):\n",
        "    train_loss = 0.0\n",
        "    train_acc = 0.0\n",
        "    count = 0\n",
        "\n",
        "    model.train()\n",
        "    for X_train, y_train in train_loader:\n",
        "        X_train, y_train = X_train.to(device), y_train.to(device)\n",
        "        optimizer.zero_grad()\n",
        "        outputs = model(X_train)\n",
        "        loss = criterion(outputs, y_train)\n",
        "        loss.backward()\n",
        "        optimizer.step()\n",
        "        train_loss += loss.item()\n",
        "        train_acc += (torch.argmax(outputs, 1) == y_train).sum().item()\n",
        "        count += len(y_train)\n",
        "\n",
        "    train_loss /= len(train_loader)\n",
        "    train_loss_lst.append(train_loss)\n",
        "    train_acc /= count\n",
        "    train_acc_lst.append(train_acc)\n",
        "\n",
        "    val_loss = 0.0\n",
        "    val_acc = 0.0\n",
        "    count = 0\n",
        "    model.eval()\n",
        "    with torch.no_grad():\n",
        "        for X_val, y_val in val_loader:\n",
        "            X_val, y_val = X_val.to(device), y_val.to(device)\n",
        "            outputs = model(X_val)\n",
        "            loss = criterion(outputs, y_val)\n",
        "            val_loss += loss.item()\n",
        "            val_acc += (torch.argmax(outputs, 1) == y_val).sum().item()\n",
        "            count += len(y_val)\n",
        "\n",
        "    val_loss /= len(test_loader)\n",
        "    val_loss_lst.append(val_loss)\n",
        "    val_acc /= count\n",
        "    val_acc_lst.append(val_acc)\n",
        "\n",
        "    print(f\"EPOCH {epoch+1}/{epochs}, Train_Loss: {train_loss:.4f}, Train_Acc: {train_acc:.4f}, Validation Loss: {val_loss:.4f}, Val_Acc: {val_acc:.4f}\")"
      ]
    },
    {
      "cell_type": "code",
      "execution_count": null,
      "id": "321d7070-b736-4ebb-94fa-59cd37ff50b3",
      "metadata": {
        "id": "321d7070-b736-4ebb-94fa-59cd37ff50b3",
        "colab": {
          "base_uri": "https://localhost:8080/",
          "height": 872
        },
        "outputId": "3bb8b0b2-b6b9-4e6f-8dbe-a69ee69073e7"
      },
      "outputs": [
        {
          "output_type": "display_data",
          "data": {
            "text/plain": [
              "<Figure size 1200x1000 with 4 Axes>"
            ],
            "image/png": "[encoded data removed]"
          },
          "metadata": {}
        }
      ],
      "source": [
        "fig, ax = plt.subplots(2, 2, figsize=(12, 10))\n",
        "ax[0, 0].plot(train_loss_lst, color='green')\n",
        "ax[0, 0].set(xlabel='Epoch', ylabel='Loss')\n",
        "ax[0, 0].set_title('Training Loss')\n",
        "\n",
        "ax[0, 1].plot(val_loss_lst, color='orange')\n",
        "ax[0, 1].set(xlabel='Epoch', ylabel='Loss')\n",
        "ax[0, 1].set_title('Validation Loss')\n",
        "\n",
        "ax[1, 0].plot(train_acc_lst, color='green')\n",
        "ax[1, 0].set(xlabel='Epoch', ylabel='Accuracy')\n",
        "ax[1, 0].set_title('Training Accuracy')\n",
        "\n",
        "ax[1, 1].plot(val_acc_lst, color='orange')\n",
        "ax[1, 1].set(xlabel='Epoch', ylabel='Accuracy')\n",
        "ax[1, 1].set_title('Validation Accuracy')\n",
        "\n",
        "plt.show()"
      ]
    },
    {
      "cell_type": "markdown",
      "source": [
        "## **4. Evaluation**"
      ],
      "metadata": {
        "id": "CY9OpDyiPL2V"
      },
      "id": "CY9OpDyiPL2V"
    },
    {
      "cell_type": "code",
      "source": [
        "val_target = []\n",
        "val_predict = []\n",
        "\n",
        "model.eval()\n",
        "with torch.no_grad():\n",
        "    for X_val, y_val in val_loader:\n",
        "        X_val = X_val.to(device)\n",
        "        y_val = y_val.to(device)\n",
        "        outputs = model(X_val)\n",
        "\n",
        "        val_predict.append(outputs.cpu())\n",
        "        val_target.append(y_val.cpu())\n",
        "\n",
        "    val_predict = torch.cat(val_predict)\n",
        "    val_target = torch.cat(val_target)\n",
        "    val_acc = (torch.argmax(val_predict, 1) == val_target).sum().item() / len(val_target)\n",
        "\n",
        "    print('Evaluation on val set:')\n",
        "    print(f'Accuracy: {val_acc}')"
      ],
      "metadata": {
        "id": "VC8cygPWPKy6",
        "colab": {
          "base_uri": "https://localhost:8080/"
        },
        "outputId": "a6e018ff-f83c-49c6-e462-213133d2434a"
      },
      "execution_count": null,
      "outputs": [
        {
          "output_type": "stream",
          "name": "stdout",
          "text": [
            "Evaluation on val set:\n",
            "Accuracy: 0.8706666666666667\n"
          ]
        }
      ],
      "id": "VC8cygPWPKy6"
    },
    {
      "cell_type": "code",
      "source": [
        "test_target = []\n",
        "test_predict = []\n",
        "\n",
        "model.eval()\n",
        "with torch.no_grad():\n",
        "    for X_test, y_test in test_loader:\n",
        "        X_test = X_test.to(device)\n",
        "        y_test = y_test.to(device)\n",
        "        outputs = model(X_test)\n",
        "\n",
        "        test_predict.append(outputs.cpu())\n",
        "        test_target.append(y_test.cpu())\n",
        "\n",
        "    test_predict = torch.cat(test_predict)\n",
        "    test_target = torch.cat(test_target)\n",
        "    test_acc = (torch.argmax(test_predict, 1) == test_target).sum().item() / len(test_target)\n",
        "\n",
        "    print('Evaluation on test set:')\n",
        "    print(f'Accuracy: {test_acc}')"
      ],
      "metadata": {
        "id": "vsTDEJ92P6Pa",
        "colab": {
          "base_uri": "https://localhost:8080/"
        },
        "outputId": "7f2e4d48-b5d1-4e1e-c54a-65e41e6c9e33"
      },
      "execution_count": null,
      "outputs": [
        {
          "output_type": "stream",
          "name": "stdout",
          "text": [
            "Evaluation on test set:\n",
            "Accuracy: 0.8588\n"
          ]
        }
      ],
      "id": "vsTDEJ92P6Pa"
    }
  ],
  "metadata": {
    "colab": {
      "provenance": [],
      "toc_visible": true,
      "gpuType": "T4"
    },
    "kernelspec": {
      "display_name": "Python 3",
      "name": "python3"
    },
    "language_info": {
      "codemirror_mode": {
        "name": "ipython",
        "version": 3
      },
      "file_extension": ".py",
      "mimetype": "text/x-python",
      "name": "python",
      "nbconvert_exporter": "python",
      "pygments_lexer": "ipython3",
      "version": "3.10.13"
    },
    "toc": {
      "base_numbering": 1,
      "nav_menu": {},
      "number_sections": true,
      "sideBar": true,
      "skip_h1_title": false,
      "title_cell": "Table of Contents",
      "title_sidebar": "Contents",
      "toc_cell": false,
      "toc_position": {},
      "toc_section_display": true,
      "toc_window_display": true
    },
    "accelerator": "GPU"
  },
  "nbformat": 4,
  "nbformat_minor": 5
}